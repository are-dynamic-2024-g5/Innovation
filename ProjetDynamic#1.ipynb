{
 "cells": [
  {
   "cell_type": "code",
   "execution_count": 16,
   "id": "a954e106-4dbb-41e8-a450-b6d8f56b8a28",
   "metadata": {},
   "outputs": [],
   "source": [
    "import numpy as np"
   ]
  },
  {
   "cell_type": "code",
   "execution_count": 23,
   "id": "4f332e3b-ccd3-458c-8d63-6a939b682d36",
   "metadata": {},
   "outputs": [
    {
     "data": {
      "text/plain": [
       "[array([[39, 42, 61, 76,  5, 14, 66, 76, 22, 27],\n",
       "        [69, 35, 24, 66, 22, 34, 52, 45,  9,  5],\n",
       "        [69, 61, 67, 44, 65, 28, 37, 63, 12, 26],\n",
       "        [12, 37, 78, 13, 32, 34, 72, 18, 41, 23],\n",
       "        [ 4, 60,  7, 24, 41, 40, 12, 78, 60, 77],\n",
       "        [10, 58, 25, 44, 74, 24, 58, 15, 27, 77],\n",
       "        [35, 42, 25, 11, 35, 51, 38, 62, 30, 50],\n",
       "        [62, 73, 35,  6, 58, 43, 70, 38, 31,  7],\n",
       "        [38, 52, 62, 68, 19, 48, 64, 23, 29, 67],\n",
       "        [47, 42, 54, 42, 78, 60,  7, 14, 44, 66]]),\n",
       " array([[0, 1, 1, 1, 1, 0, 1, 1, 0, 0],\n",
       "        [0, 0, 0, 1, 1, 1, 1, 1, 0, 0],\n",
       "        [1, 0, 1, 0, 1, 1, 0, 1, 0, 1],\n",
       "        [1, 0, 0, 0, 1, 1, 1, 1, 1, 1],\n",
       "        [1, 0, 0, 0, 0, 1, 1, 0, 1, 1],\n",
       "        [1, 0, 0, 1, 0, 1, 1, 1, 0, 1],\n",
       "        [0, 1, 0, 0, 1, 1, 1, 0, 1, 1],\n",
       "        [0, 0, 1, 1, 0, 0, 0, 0, 1, 0],\n",
       "        [0, 1, 1, 0, 1, 0, 1, 0, 1, 0],\n",
       "        [1, 0, 1, 0, 0, 1, 1, 0, 0, 1]])]"
      ]
     },
     "execution_count": 23,
     "metadata": {},
     "output_type": "execute_result"
    }
   ],
   "source": [
    "rng=np.random.default_rng(2)\n",
    "#Une innovation va être définie par plusieurs caractéristiques, ici la tranche d'âge des 'consomateurs' visés, et à quel point l'innovation\n",
    "#est pratique, on choisit pour un début\n",
    "agemin = 11\n",
    "agemax = 70\n",
    "praticité = 0.9 #en %\n",
    "innovation = [agemin,agemax,praticité]\n",
    "#population qui est définie par les critères des différentes personnes, ici l'âge, et par si oui ou non elle a adopté l'innovation:\n",
    "age_population1 = rng.integers(3, 80, 100)\n",
    "adoption_population1 = rng.integers(0, 2,100)\n",
    "population1 = [age_population, adoption_population]\n",
    "population1\n"
   ]
  },
  {
   "cell_type": "code",
   "execution_count": 21,
   "id": "a40f8850-073d-42be-b075-16572b335f56",
   "metadata": {},
   "outputs": [],
   "source": [
    "#On choisi des critères et on choisi arbitrairement à quel point ils vont impacter le 'taux de conviction' d'une personne\n",
    "#on choisi également le taux d'adoption inital d'une personne avant n'importe quel impact, ici le même pour tout le monde\n",
    "impact_age = 0.5\n",
    "impact_influence = 0.35\n",
    "taux_adoption_initale_pers = 0.2\n",
    "taux_seuil_adoption = 0.65\n"
   ]
  },
  {
   "cell_type": "code",
   "execution_count": null,
   "id": "d2ea1b0d-5a44-4328-9195-a13279ca49f0",
   "metadata": {},
   "outputs": [],
   "source": [
    "#Fonction qui retourne le nouveau taux de conviction d'une personne en prenant en compte l'impact de l'age\n",
    "def taux_age(age,innovation,taux,impact_age):\n",
    "    if age>=innovation[0] and age<=innovation[1]:\n",
    "        taux=taux + taux*impact_age\n",
    "    return taux"
   ]
  },
  {
   "cell_type": "code",
   "execution_count": 19,
   "id": "f63cd42d-aca4-43df-b96a-f6e9cb0ab7ee",
   "metadata": {},
   "outputs": [
    {
     "data": {
      "text/plain": [
       "0.30000000000000004"
      ]
     },
     "execution_count": 19,
     "metadata": {},
     "output_type": "execute_result"
    }
   ],
   "source": [
    "#Pour prendre en compte l'influence de l'entourage (si l'entourage de quelqu'un a adopté l'innovation) , on doit définir un voisinage\n",
    "#à prendre en compte \n",
    "#voisinage = "
   ]
  },
  {
   "cell_type": "code",
   "execution_count": null,
   "id": "2481474e-8975-45cd-95f8-79d6f305ee72",
   "metadata": {},
   "outputs": [],
   "source": [
    "#Puis on défini une fonction qui renvoie un nouveau taux de conviction après avoir pris en compte l'influence"
   ]
  },
  {
   "cell_type": "code",
   "execution_count": null,
   "id": "8c3776f6-6aab-4d1b-88c6-1ef2086c8e94",
   "metadata": {},
   "outputs": [],
   "source": [
    "#Puis on défini une fonction qui décide si une personne adopte l'innovation en fonction de son taux de conviction\n",
    "#pour cela on défini un seuil\n",
    "seuil_conviction = 0.6"
   ]
  },
  {
   "cell_type": "code",
   "execution_count": null,
   "id": "e75454ad-9a46-428b-ab02-b103871b0d6b",
   "metadata": {},
   "outputs": [],
   "source": [
    "#Puis on défini une fonction qui, pour chaque personne de la population, calcule son nouveau taux de convictions en fonction des critères,\n",
    "#et renvoie "
   ]
  }
 ],
 "metadata": {
  "kernelspec": {
   "display_name": "Python 3 (ipykernel)",
   "language": "python",
   "name": "python3"
  },
  "language_info": {
   "codemirror_mode": {
    "name": "ipython",
    "version": 3
   },
   "file_extension": ".py",
   "mimetype": "text/x-python",
   "name": "python",
   "nbconvert_exporter": "python",
   "pygments_lexer": "ipython3",
   "version": "3.9.6"
  }
 },
 "nbformat": 4,
 "nbformat_minor": 5
}
