{
 "cells": [
  {
   "cell_type": "code",
   "execution_count": 52,
   "id": "a954e106-4dbb-41e8-a450-b6d8f56b8a28",
   "metadata": {},
   "outputs": [],
   "source": [
    "import numpy as np"
   ]
  },
  {
   "cell_type": "code",
   "execution_count": 53,
   "id": "4f332e3b-ccd3-458c-8d63-6a939b682d36",
   "metadata": {},
   "outputs": [
    {
     "data": {
      "text/plain": [
       "[array([[67, 23, 11, 25, 34, 65, 37, 10, 28, 49],\n",
       "        [65, 59, 79, 17, 70,  7, 45, 24, 18, 53],\n",
       "        [26, 46, 23, 14, 60, 36, 55, 54, 75, 35],\n",
       "        [19, 51, 74, 77, 69, 55, 32, 33,  6, 17],\n",
       "        [28, 29, 47, 42, 56, 71, 70, 62, 78, 27],\n",
       "        [72, 74, 20, 39, 46, 56, 56, 11, 39, 11],\n",
       "        [76, 18, 37, 71, 43, 55, 41, 68, 48, 52],\n",
       "        [37, 34, 48, 42, 63, 48, 39, 69, 19, 36],\n",
       "        [40, 71, 36, 50,  8, 66, 37, 41, 10, 56],\n",
       "        [51, 29, 62, 43,  7, 19, 22, 10, 41,  5]]),\n",
       " array([[1, 1, 1, 0, 0, 1, 0, 1, 0, 0],\n",
       "        [1, 1, 1, 1, 0, 1, 1, 0, 0, 0],\n",
       "        [1, 0, 0, 0, 1, 1, 0, 0, 0, 0],\n",
       "        [1, 1, 0, 0, 0, 0, 1, 0, 1, 1],\n",
       "        [1, 1, 0, 1, 1, 1, 0, 1, 1, 1],\n",
       "        [0, 1, 1, 1, 1, 0, 0, 1, 1, 1],\n",
       "        [0, 0, 1, 0, 0, 1, 0, 1, 0, 0],\n",
       "        [0, 0, 0, 0, 1, 1, 1, 0, 1, 0],\n",
       "        [1, 1, 0, 0, 0, 0, 0, 0, 1, 0],\n",
       "        [1, 0, 1, 1, 1, 0, 1, 0, 1, 0]])]"
      ]
     },
     "execution_count": 53,
     "metadata": {},
     "output_type": "execute_result"
    }
   ],
   "source": [
    "rng=np.random.default_rng(2)\n",
    "#Une innovation va être définie par plusieurs caractéristiques, ici la tranche d'âge des 'consomateurs' visés, et à quel point l'innovation\n",
    "#est pratique, on choisit pour un début\n",
    "agemin = 11\n",
    "agemax = 70\n",
    "praticité = 0.9 #en %\n",
    "innovation = [agemin,agemax,praticité]\n",
    "#population qui est définie par les critères des différentes personnes, ici l'âge, et par si oui ou non elle a adopté l'innovation:\n",
    "age_population1 = rng.integers(3, 80, (10,10))\n",
    "adoption_population1 = rng.integers(0, 2,(10,10))\n",
    "population1 = [age_population1, adoption_population1]\n",
    "population1"
   ]
  },
  {
   "cell_type": "code",
   "execution_count": 54,
   "id": "a40f8850-073d-42be-b075-16572b335f56",
   "metadata": {},
   "outputs": [],
   "source": [
    "#On choisi des critères et on choisi arbitrairement à quel point ils vont impacter le 'taux de conviction' d'une personne\n",
    "#on choisi également le taux d'adoption inital d'une personne avant n'importe quel impact, ici le même pour tout le monde\n",
    "impact_age = 0.5\n",
    "impact_influence = 0.07\n",
    "taux_adoption_initale_pers = 0.2\n",
    "taux_seuil_adoption = 0.65\n"
   ]
  },
  {
   "cell_type": "code",
   "execution_count": 55,
   "id": "d2ea1b0d-5a44-4328-9195-a13279ca49f0",
   "metadata": {},
   "outputs": [],
   "source": [
    "#Fonction qui retourne le nouveau taux de conviction d'une personne en prenant en compte l'impact de l'age\n",
    "def taux_age(age,innovation,taux,impact_age):\n",
    "    if age>=innovation[0] and age<=innovation[1]:\n",
    "        taux=taux + taux*impact_age\n",
    "    return taux"
   ]
  },
  {
   "cell_type": "code",
   "execution_count": 56,
   "id": "f63cd42d-aca4-43df-b96a-f6e9cb0ab7ee",
   "metadata": {},
   "outputs": [],
   "source": [
    "#Pour prendre en compte l'influence de l'entourage (si l'entourage de quelqu'un a adopté l'innovation) , on doit définir un voisinage\n",
    "#à prendre en compte \n",
    "voisinage_carré = 2"
   ]
  },
  {
   "cell_type": "code",
   "execution_count": 57,
   "id": "2481474e-8975-45cd-95f8-79d6f305ee72",
   "metadata": {},
   "outputs": [],
   "source": [
    "#Puis on défini une fonction qui renvoie un nouveau taux de conviction après avoir pris en compte l'influence"
   ]
  },
  {
   "cell_type": "code",
   "execution_count": 58,
   "id": "415de619-0f11-446b-a88c-ee3bc153f5e7",
   "metadata": {},
   "outputs": [
    {
     "data": {
      "text/plain": [
       "0.38200000000000006"
      ]
     },
     "execution_count": 58,
     "metadata": {},
     "output_type": "execute_result"
    }
   ],
   "source": [
    "def taux_influence(i, j, voisinage, adoptions, taux_adoption_ij, impact_influence):\n",
    "    rows, cols = adoptions.shape\n",
    "    adopted_neighbors = 0\n",
    "    \n",
    "    for r in range(i - voisinage, i + voisinage + 1):\n",
    "        for c in range(j - voisinage, j + voisinage + 1):\n",
    "            # Conversion des indices pour prendre en compte la grille toroïdale\n",
    "            r_wrap = r % rows\n",
    "            c_wrap = c % cols\n",
    "            \n",
    "            # Vérifier si la cellule est différente de la cellule centrale\n",
    "            if (r != i or c != j):\n",
    "                # Compter l'adoption si la cellule est à l'intérieur de la grille\n",
    "                adopted_neighbors += adoptions[r_wrap, c_wrap]\n",
    "    \n",
    "    #total_neighbors = (2 * voisinage + 1) ** 2 - 1\n",
    "    #pourcentage_adoptes = adopted_neighbors / total_neighbors\n",
    "    nouveau_taux_adoption_ij = taux_adoption_ij + (impact_influence*adopted_neighbors) * taux_adoption_ij\n",
    "    \n",
    "    return nouveau_taux_adoption_ij\n",
    "\n",
    "taux_influence(5,5,voisinage_carré,population1[1],taux_adoption_initale_pers,impact_influence)"
   ]
  },
  {
   "cell_type": "code",
   "execution_count": 43,
   "id": "8c3776f6-6aab-4d1b-88c6-1ef2086c8e94",
   "metadata": {},
   "outputs": [],
   "source": [
    "#Puis on défini une fonction qui décide si une personne adopte l'innovation en fonction de son taux de conviction\n",
    "#pour cela on défini un seuil\n",
    "seuil_conviction = 0.6"
   ]
  },
  {
   "cell_type": "code",
   "execution_count": 44,
   "id": "e75454ad-9a46-428b-ab02-b103871b0d6b",
   "metadata": {},
   "outputs": [],
   "source": [
    "#Puis on défini une fonction qui, pour chaque personne de la population, calcule son nouveau taux de convictions en fonction des critères,\n",
    "#et renvoie un nouveau monde avec les nouvelles personnes qui auraient adopté l'innovation"
   ]
  },
  {
   "cell_type": "code",
   "execution_count": null,
   "id": "6ed5b67e-7d04-483a-9ff2-c696ba3ab753",
   "metadata": {},
   "outputs": [],
   "source": [
    "def nouvelle_adoption_population(population,voisinage,impact_age,impact_influence,taux_adoption_initale_pers):\n",
    "    rows, cols = population[0].shape\n",
    "    for r in range(0,rows):\n",
    "        for c in range(0,cols):\n",
    "            \n",
    "        "
   ]
  },
  {
   "cell_type": "code",
   "execution_count": null,
   "id": "693c6708-53af-45cf-bedc-380af68593ff",
   "metadata": {},
   "outputs": [],
   "source": []
  }
 ],
 "metadata": {
  "kernelspec": {
   "display_name": "Python 3 (ipykernel)",
   "language": "python",
   "name": "python3"
  },
  "language_info": {
   "codemirror_mode": {
    "name": "ipython",
    "version": 3
   },
   "file_extension": ".py",
   "mimetype": "text/x-python",
   "name": "python",
   "nbconvert_exporter": "python",
   "pygments_lexer": "ipython3",
   "version": "3.9.6"
  }
 },
 "nbformat": 4,
 "nbformat_minor": 5
}
